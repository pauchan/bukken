{
 "cells": [
  {
   "cell_type": "code",
   "execution_count": 2,
   "metadata": {
    "collapsed": false
   },
   "outputs": [],
   "source": [
    "from lxml import html, etree\n",
    "import requests\n"
   ]
  },
  {
   "cell_type": "code",
   "execution_count": 3,
   "metadata": {
    "collapsed": false
   },
   "outputs": [],
   "source": [
    "new_apartments_by_line = 'http://suumo.jp/jj/bukken/ichiran/JJ010FJ001/?ar=030&bs=020&ta=13'\n",
    "\n",
    "response = requests.get(new_apartments_by_line)\n"
   ]
  },
  {
   "cell_type": "code",
   "execution_count": 24,
   "metadata": {
    "collapsed": false
   },
   "outputs": [
    {
     "name": "stdout",
     "output_type": "stream",
     "text": [
      "3280万円～4080万円\n",
      "3780万円～4380万円\n",
      "3780万円～4280万円\n",
      "3780万円～4380万円\n",
      "3780万円～3980万円\n",
      "3980万円\n",
      "3980万円～4580万円\n",
      "3980万円～4580万円\n",
      "3990万円～4390万円\n",
      "4180万円～4780万円\n",
      "4478万円～4698万円\n",
      "4480万円・5080万円\n",
      "4500万円～6200万円台（予定）\n",
      "4566万円・5496万円\n",
      "5290万円～5950万円\n",
      "5290万円～5690万円\n",
      "5332万円・5487万円\n",
      "5400万円～6400万円台（予定）\n",
      "5498万円～6498万円\n",
      "5580万円～6580万円\n",
      "5682万円～6179万円\n",
      "5780万円・5980万円\n",
      "5780万円～5980万円\n",
      "5950万円～6870万円\n",
      "6300万円～6600万円台（予定）\n",
      "6381万円～6654万円\n",
      "6400万円～7100万円台（予定）\n",
      "6598万円\n",
      "6998万円\n",
      "7640万円～8620万円\n"
     ]
    }
   ],
   "source": [
    "tree = html.fromstring(response.content)\n",
    "\n",
    "x = tree.findall(\".//div[@class='property_unit-content']\")\n",
    "for y in x:\n",
    "    z = y.find(\".//span[@class='dottable-value']\")\n",
    "    print(z.text)\n",
    "    #for span in :\n",
    "    #    print(span)\n",
    "#print(x)\n",
    "\n",
    "\n",
    "#for div in tree.cssselect('div.property_unit-content'):\n",
    "#    print(\"%s - %s\" % (div.tag, div.text))"
   ]
  },
  {
   "cell_type": "code",
   "execution_count": null,
   "metadata": {
    "collapsed": true
   },
   "outputs": [],
   "source": []
  }
 ],
 "metadata": {
  "kernelspec": {
   "display_name": "Python 2",
   "language": "python",
   "name": "python2"
  },
  "language_info": {
   "codemirror_mode": {
    "name": "ipython",
    "version": 2
   },
   "file_extension": ".py",
   "mimetype": "text/x-python",
   "name": "python",
   "nbconvert_exporter": "python",
   "pygments_lexer": "ipython2",
   "version": "2.7.9"
  }
 },
 "nbformat": 4,
 "nbformat_minor": 0
}
