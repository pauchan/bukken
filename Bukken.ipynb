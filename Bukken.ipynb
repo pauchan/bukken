{
 "cells": [
  {
   "cell_type": "code",
   "execution_count": 20,
   "metadata": {
    "collapsed": false
   },
   "outputs": [],
   "source": [
    "#!/usr/bin/env python\n",
    "# -*- coding: utf-8 -*-\n",
    "\n",
    "from lxml import html, etree\n",
    "import requests\n"
   ]
  },
  {
   "cell_type": "code",
   "execution_count": 21,
   "metadata": {
    "collapsed": false
   },
   "outputs": [],
   "source": [
    "new_apartments_by_line = 'http://suumo.jp/jj/bukken/ichiran/JJ010FJ001/?ar=030&bs=020&ta=13'\n",
    "\n",
    "response = requests.get(new_apartments_by_line)\n"
   ]
  },
  {
   "cell_type": "code",
   "execution_count": 26,
   "metadata": {
    "collapsed": false
   },
   "outputs": [
    {
     "name": "stdout",
     "output_type": "stream",
     "text": [
      "3280万円～4080万円\n",
      "東京都町田市忠生２-１２\n",
      "3780万円～4380万円\n",
      "東京都町田市成瀬２-21番1他\n",
      "3780万円～4280万円\n",
      "東京都日野市南平９\n",
      "3780万円～4380万円\n",
      "東京都国分寺市戸倉３\n",
      "3780万円～3980万円\n",
      "東京都町田市玉川学園３\n",
      "3980万円\n",
      "東京都小金井市貫井南町４\n",
      "3980万円～4580万円\n",
      "東京都三鷹市大沢４-10-10\n",
      "3980万円～4580万円\n",
      "東京都八王子市下柚木２-19-3\n",
      "3990万円～4390万円\n",
      "東京都八王子市台町２-88-81\n",
      "4180万円～4780万円\n",
      "東京都八王子市鑓水２-85-1\n",
      "4478万円～4698万円\n",
      "東京都町田市小山ヶ丘６-1番165（地番）他\n",
      "4480万円・5080万円\n",
      "東京都武蔵村山市大南５-1-264他\n",
      "4500万円～6200万円台（予定）\n",
      "東京都小平市回田町２０２－１１他(地番)\n",
      "4566万円・5496万円\n",
      "東京都調布市深大寺元町３-25\n",
      "5290万円～5950万円\n",
      "東京都日野市東平山１-6番30(従前地)他\n",
      "5290万円～5690万円\n",
      "東京都三鷹市大沢３-10-52\n",
      "5332万円・5487万円\n",
      "東京都町田市玉川学園２-3-18-1\n",
      "5400万円～6400万円台（予定）\n",
      "東京都練馬区石神井町７-1871-2他(地番)\n",
      "5498万円～6498万円\n",
      "東京都国分寺市西町１-17番1他（地番）\n",
      "5580万円～6580万円\n",
      "東京都調布市西つつじケ丘１-58番以下未定\n",
      "5682万円～6179万円\n",
      "東京都町田市南つくし野４-3\n",
      "5780万円・5980万円\n",
      "東京都小平市花小金井南町２-9番40\n",
      "5780万円～5980万円\n",
      "東京都小金井市前原町４-17番10\n",
      "5950万円～6870万円\n",
      "東京都国立市東４-8-8他\n",
      "6300万円～6600万円台（予定）\n",
      "東京都調布市布田５-37-16他(地番)\n",
      "6381万円～6654万円\n",
      "東京都練馬区富士見台３-336-9他（地番）\n",
      "6400万円～7100万円台（予定）\n",
      "東京都練馬区関町南１-36-3他（地番）\n",
      "6598万円\n",
      "東京都杉並区下井草４-209番2（地番）他\n",
      "6998万円\n",
      "東京都練馬区田柄４-5483-8他（地番）\n",
      "7640万円～8620万円\n",
      "東京都中野区沼袋２-１９番２３－４他\n"
     ]
    }
   ],
   "source": [
    "tree = html.fromstring(response.content)\n",
    "\n",
    "x = tree.findall(\".//div[@class='property_unit-content']\")\n",
    "for y in x:\n",
    "    z = y.find(\".//span[@class='dottable-value']\")\n",
    "    print(z.text)\n",
    "    cell = y.findall(\".//div[@class='dottable-line']/dl\")\n",
    "    for keyvalue in cell:\n",
    "        key = keyvalue.find(\"./dt\")\n",
    "        if key.text == u'所在地':\n",
    "            print(keyvalue.find(\"./dd\").text)\n",
    "        \n",
    "    \n",
    "#\t\t\t\t\t\t\t\t<dl>\n",
    "#\t\t\t\t\t\t\t\t\t<dt>所在地</dt>\n",
    "#\t\t\t\t\t\t\t\t\t<dd>東京都町田市忠生２-１２</dd>\n",
    "#\t\t\t\t\t\t\t\t</dl>\n",
    "\n",
    "        \n",
    "    #for span in :\n",
    "    #    print(span)\n",
    "#print(x)\n",
    "\n",
    "\n",
    "#for div in tree.cssselect('div.property_unit-content'):\n",
    "#    print(\"%s - %s\" % (div.tag, div.text))"
   ]
  },
  {
   "cell_type": "code",
   "execution_count": null,
   "metadata": {
    "collapsed": true
   },
   "outputs": [],
   "source": []
  }
 ],
 "metadata": {
  "kernelspec": {
   "display_name": "Python 2",
   "language": "python",
   "name": "python2"
  },
  "language_info": {
   "codemirror_mode": {
    "name": "ipython",
    "version": 2
   },
   "file_extension": ".py",
   "mimetype": "text/x-python",
   "name": "python",
   "nbconvert_exporter": "python",
   "pygments_lexer": "ipython2",
   "version": "2.7.9"
  }
 },
 "nbformat": 4,
 "nbformat_minor": 0
}
